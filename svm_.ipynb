{
  "cells": [
    {
      "cell_type": "code",
      "execution_count": null,
      "id": "7b81369b",
      "metadata": {
        "id": "7b81369b"
      },
      "outputs": [],
      "source": [
        "import cvxpy as cp #using python library for convex optimization problem(Solving the convex problem)\n",
        "import numpy as np\n",
        "import matplotlib.pyplot as plt #for plotting the graphs\n",
        "import scipy.io #for loading different types of files(here loading mat file)"
      ]
    },
    {
      "cell_type": "markdown",
      "id": "955ce72e",
      "metadata": {
        "id": "955ce72e"
      },
      "source": [
        "# Classification dataset"
      ]
    },
    {
      "cell_type": "code",
      "execution_count": null,
      "id": "021a2c78",
      "metadata": {
        "id": "021a2c78"
      },
      "outputs": [],
      "source": [
        "mat=scipy.io.loadmat('D:/IIT KGP/semester 2/MLSP LAB/Data_points/Classification_Points_Data1.mat') #loading the mat file\n",
        "# print(mat)\n",
        "mat.keys() #finding the keys in mat file\n",
        "x=mat['A'] #finding the value present at A key\n",
        "y=mat['B'] #finding the value present at B key"
      ]
    },
    {
      "cell_type": "markdown",
      "id": "4d59a76d",
      "metadata": {
        "id": "4d59a76d"
      },
      "source": [
        "# SVM Primal"
      ]
    },
    {
      "cell_type": "code",
      "execution_count": null,
      "id": "3b1c7256",
      "metadata": {
        "id": "3b1c7256",
        "outputId": "db4b1a93-c379-4ac0-f7bc-4ed698ffd122"
      },
      "outputs": [
        {
          "name": "stdout",
          "output_type": "stream",
          "text": [
            "(60, 2)\n",
            "(60,)\n",
            "(2,)\n"
          ]
        },
        {
          "name": "stderr",
          "output_type": "stream",
          "text": [
            "C:\\Users\\avnis\\anaconda3\\Lib\\site-packages\\cvxpy\\reductions\\solvers\\solving_chain.py:336: FutureWarning: \n",
            "    Your problem is being solved with the ECOS solver by default. Starting in \n",
            "    CVXPY 1.5.0, Clarabel will be used as the default solver instead. To continue \n",
            "    using ECOS, specify the ECOS solver explicitly using the ``solver=cp.ECOS`` \n",
            "    argument to the ``problem.solve`` method.\n",
            "    \n",
            "  warnings.warn(ECOS_DEPRECATION_MSG, FutureWarning)\n"
          ]
        }
      ],
      "source": [
        "# Define the SVM primal problem\n",
        "# print(x.shape)\n",
        "n = x.shape[1]  # number of features (dimensions) of each data point\n",
        "N = x.shape[0] + y.shape[0]  # total number of data points\n",
        "X = np.concatenate((x, y), axis=0)  # concatenate the data points of x and y along the row(axis=0) and if (axis=1) then concatenate around the column\n",
        "print(X.shape)\n",
        "Y = np.concatenate((np.ones(x.shape[0]), -np.ones(y.shape[0])))  # concatenate the labels into a single vector here axis is not given hence it will flatten the arrays and concatenate\n",
        "print(Y.shape)\n",
        "w = cp.Variable(n)  # SVM weight vector of size n*1\n",
        "print(w.shape)\n",
        "b = cp.Variable()  # SVM bias term\n",
        "objective = cp.Minimize(0.5 * cp.norm(w)**2)  # SVM cost function (minimize 0.5*||w||^2)\n",
        "constraints = [Y[i] * (w.T @ X[i] + b) >= 1 for i in range(N)]  # SVM constraints (points are correctly classified)\n",
        "problem = cp.Problem(objective, constraints)  # define the SVM problem\n",
        "\n",
        "# Solve the problem\n",
        "problem.solve()\n",
        "\n",
        "# Extract the optimal values\n",
        "w_opt = w.value  # optimal weight vector\n",
        "b_opt = b.value  # optimal bias term"
      ]
    },
    {
      "cell_type": "markdown",
      "id": "932331d0",
      "metadata": {
        "id": "932331d0"
      },
      "source": [
        "# Optimal weights"
      ]
    },
    {
      "cell_type": "code",
      "execution_count": null,
      "id": "0cdbf18f",
      "metadata": {
        "id": "0cdbf18f",
        "outputId": "3de40793-3d59-4471-d16a-ef74c62daf76"
      },
      "outputs": [
        {
          "name": "stdout",
          "output_type": "stream",
          "text": [
            "Optimal weights: [-0.92288126  0.76271797]\n",
            "Optimal bias: 1.197607625558834\n"
          ]
        }
      ],
      "source": [
        "#printing the optimal weights and bias value\n",
        "print(\"Optimal weights:\", w_opt)\n",
        "print(\"Optimal bias:\", b_opt)"
      ]
    },
    {
      "cell_type": "markdown",
      "id": "39904b12",
      "metadata": {
        "id": "39904b12"
      },
      "source": [
        "# SVM Dual"
      ]
    },
    {
      "cell_type": "code",
      "execution_count": null,
      "id": "24b5636b",
      "metadata": {
        "id": "24b5636b"
      },
      "outputs": [],
      "source": [
        "import cvxopt\n",
        "#writing the dual function\n",
        "def svm_dual(X, y, C=0.01):\n",
        "    \"\"\"\n",
        "    Solves the linear SVM classification problem using the dual formulation.\n",
        "\n",
        "    Args:\n",
        "    - X: N x n matrix of input features\n",
        "    - y: N x 1 vector of labels (-1 or 1)\n",
        "    - C: scalar regularization parameter\n",
        "\n",
        "    Returns:\n",
        "    - w: n x 1 vector of optimal weights\n",
        "    - b: scalar bias term\n",
        "    - a: N x 1 vector of Lagrange multipliers\n",
        "    \"\"\"\n",
        "    N, n = X.shape\n",
        "    K = y.reshape(-1, 1) * X.dot(X.T) * y.reshape(1, -1)\n",
        "    P = cvxopt.matrix(K)\n",
        "    q = cvxopt.matrix(-np.ones((N, 1)))\n",
        "    G = cvxopt.matrix(np.vstack((-np.eye(N), np.eye(N))))\n",
        "    h = cvxopt.matrix(np.vstack((np.zeros((N, 1)), C * np.ones((N, 1)))))\n",
        "    A = cvxopt.matrix(y.reshape(1, -1))\n",
        "    b = cvxopt.matrix(0.0)\n",
        "    sol = cvxopt.solvers.qp(P, q, G, h, A, b)\n",
        "\n",
        "    a = np.array(sol['x'])\n",
        "    w = np.sum(a * y.reshape(-1, 1) * X, axis=0).reshape(-1, 1)\n",
        "    sv = (a > 1e-4).flatten()\n",
        "    b = y[sv] - np.dot(X[sv], w)\n",
        "    b = np.mean(b)\n",
        "\n",
        "    return w, b, a\n"
      ]
    },
    {
      "cell_type": "markdown",
      "id": "4af8a2c8",
      "metadata": {
        "id": "4af8a2c8"
      },
      "source": [
        "# Optimal primal solutions w* and b*"
      ]
    },
    {
      "cell_type": "code",
      "execution_count": null,
      "id": "c1b522b2",
      "metadata": {
        "id": "c1b522b2",
        "outputId": "360ed4d0-c1ac-4daf-dabe-d4502691abda"
      },
      "outputs": [
        {
          "name": "stdout",
          "output_type": "stream",
          "text": [
            "     pcost       dcost       gap    pres   dres\n",
            " 0: -5.5147e+00 -9.2973e-01  2e+02  2e+01  4e-14\n",
            " 1: -1.9476e-01 -9.2179e-01  4e+00  2e-01  3e-14\n",
            " 2: -1.2180e-01 -5.6966e-01  5e-01  5e-03  1e-15\n",
            " 3: -1.3801e-01 -1.9457e-01  6e-02  5e-04  2e-15\n",
            " 4: -1.5951e-01 -1.7102e-01  1e-02  9e-05  2e-15\n",
            " 5: -1.6353e-01 -1.6669e-01  3e-03  2e-05  2e-15\n",
            " 6: -1.6497e-01 -1.6522e-01  3e-04  1e-06  2e-15\n",
            " 7: -1.6509e-01 -1.6509e-01  8e-06  3e-08  2e-15\n",
            " 8: -1.6509e-01 -1.6509e-01  3e-07  3e-10  2e-15\n",
            " 9: -1.6509e-01 -1.6509e-01  3e-08  3e-12  2e-15\n",
            "Optimal solution found.\n",
            "Optimal weights (w):\n",
            "[[-0.31324201]\n",
            " [ 0.30268376]]\n",
            "\n",
            "Bias term (b):\n",
            "0.12949690782443674\n",
            "\n",
            "Lagrange multipliers (a):\n",
            "[[1.11014177e-11]\n",
            " [1.12849402e-11]\n",
            " [9.99999995e-03]\n",
            " [9.99999974e-03]\n",
            " [9.38033339e-03]\n",
            " [9.99999996e-03]\n",
            " [9.99999996e-03]\n",
            " [3.02195880e-11]\n",
            " [2.71588965e-10]\n",
            " [7.99679150e-12]\n",
            " [9.99999998e-03]\n",
            " [1.00082119e-11]\n",
            " [1.78920061e-11]\n",
            " [9.99999996e-03]\n",
            " [6.93976492e-12]\n",
            " [9.99999857e-03]\n",
            " [9.99999995e-03]\n",
            " [4.43336034e-11]\n",
            " [9.99999997e-03]\n",
            " [9.99999991e-03]\n",
            " [9.99999993e-03]\n",
            " [9.59290538e-12]\n",
            " [1.05633910e-11]\n",
            " [9.99999964e-03]\n",
            " [5.99119105e-04]\n",
            " [1.15440402e-11]\n",
            " [3.14204765e-11]\n",
            " [2.43686864e-11]\n",
            " [8.50184157e-12]\n",
            " [2.14683473e-11]\n",
            " [1.02432233e-10]\n",
            " [9.99999993e-03]\n",
            " [9.99999989e-03]\n",
            " [9.99999996e-03]\n",
            " [9.99999985e-03]\n",
            " [7.78703651e-12]\n",
            " [9.99999578e-03]\n",
            " [1.95527877e-11]\n",
            " [4.20027969e-11]\n",
            " [3.35796594e-11]\n",
            " [9.99999994e-03]\n",
            " [9.97945529e-03]\n",
            " [1.61279284e-11]\n",
            " [9.99999984e-03]\n",
            " [3.97283480e-11]\n",
            " [1.59471220e-11]\n",
            " [1.12404629e-11]\n",
            " [9.99999997e-03]\n",
            " [5.04577571e-11]\n",
            " [9.99999995e-03]\n",
            " [3.21526180e-11]\n",
            " [9.99999998e-03]\n",
            " [9.99999993e-03]\n",
            " [9.99999971e-03]\n",
            " [6.39691161e-11]\n",
            " [2.74640460e-11]\n",
            " [7.24015063e-12]\n",
            " [7.16688945e-12]\n",
            " [2.43460206e-11]\n",
            " [1.85789970e-11]]\n"
          ]
        }
      ],
      "source": [
        "w, b, a = svm_dual(X, Y, C=0.01)\n",
        "print(\"Optimal weights (w):\")\n",
        "print(w)\n",
        "print(\"\\nBias term (b):\")\n",
        "print(b)\n",
        "print(\"\\nLagrange multipliers (a):\")\n",
        "print(a)"
      ]
    },
    {
      "cell_type": "markdown",
      "id": "f938af2d",
      "metadata": {
        "id": "f938af2d"
      },
      "source": [
        "# Data points and Classifier"
      ]
    },
    {
      "cell_type": "code",
      "execution_count": null,
      "id": "2127ec79",
      "metadata": {
        "id": "2127ec79",
        "outputId": "98b3141b-47a8-41e9-ecab-8f921d9b9572"
      },
      "outputs": [
        {
          "data": {
            "image/png": "[encoded data removed]",
            "text/plain": [
              "<Figure size 640x480 with 1 Axes>"
            ]
          },
          "metadata": {},
          "output_type": "display_data"
        }
      ],
      "source": [
        "import matplotlib.pyplot as plt\n",
        "\n",
        "# Separate the data points into sets A and B\n",
        "A = X[Y == 1]\n",
        "B = X[Y == -1]\n",
        "\n",
        "# Define the SVM classifier function\n",
        "def svm_classifier(x, w, b):\n",
        "    return np.sign(x @ w + b)\n",
        "\n",
        "# Plot the data points and the classifier\n",
        "fig, ax = plt.subplots()\n",
        "ax.scatter(A[:, 0], A[:, 1], c='b', label='Set A')\n",
        "ax.scatter(B[:, 0], B[:, 1], c='r', label='Set B')\n",
        "ax.set_xlabel('Feature 1')\n",
        "ax.set_ylabel('Feature 2')\n",
        "xlim = ax.get_xlim()\n",
        "ylim = ax.get_ylim()\n",
        "xx, yy = np.meshgrid(np.linspace(xlim[0], xlim[1], 100), np.linspace(ylim[0], ylim[1], 100))\n",
        "xy = np.vstack([xx.ravel(), yy.ravel()]).T\n",
        "Z = svm_classifier(xy, w_opt, b_opt)\n",
        "Z = Z.reshape(xx.shape)\n",
        "ax.contour(xx, yy, Z, colors='k', levels=[-1, 0, 1], alpha=0.5)\n",
        "svs = np.where(np.abs(Y * (X @ w_opt + b_opt) - 1) < 1e-5)[0]\n",
        "ax.scatter(X[svs, 0], X[svs, 1], facecolors='none', edgecolors='g', label='Support vectors')\n",
        "ax.legend()\n",
        "plt.show()"
      ]
    },
    {
      "cell_type": "code",
      "execution_count": null,
      "id": "7ef27d0b",
      "metadata": {
        "id": "7ef27d0b"
      },
      "outputs": [],
      "source": []
    }
  ],
  "metadata": {
    "kernelspec": {
      "display_name": "Python 3 (ipykernel)",
      "language": "python",
      "name": "python3"
    },
    "language_info": {
      "codemirror_mode": {
        "name": "ipython",
        "version": 3
      },
      "file_extension": ".py",
      "mimetype": "text/x-python",
      "name": "python",
      "nbconvert_exporter": "python",
      "pygments_lexer": "ipython3",
      "version": "3.11.3"
    },
    "colab": {
      "provenance": []
    }
  },
  "nbformat": 4,
  "nbformat_minor": 5
}